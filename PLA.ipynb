{
 "cells": [
  {
   "cell_type": "markdown",
   "metadata": {},
   "source": [
    "# PLA代码实现"
   ]
  },
  {
   "cell_type": "code",
   "execution_count": 1,
   "metadata": {},
   "outputs": [],
   "source": [
    "import pandas as pd\n",
    "import numpy as np\n",
    "import matplotlib.pyplot as plt"
   ]
  },
  {
   "cell_type": "markdown",
   "metadata": {},
   "source": [
    "## 生成测试 "
   ]
  },
  {
   "cell_type": "code",
   "execution_count": 2,
   "metadata": {},
   "outputs": [],
   "source": [
    "###获得测试数据\n",
    "x1 = np.random.randint(1,100,10)\n",
    "x2 = np.random.randint(1,100,10)\n",
    "###获取label\n",
    "y = [1 if i>j else -1 for i,j in zip(x1,x2)]"
   ]
  },
  {
   "cell_type": "code",
   "execution_count": 3,
   "metadata": {},
   "outputs": [],
   "source": [
    "X = np.array([x1,x2]).T\n",
    "label = np.array(y).T\n",
    "data = np.array([x1,x2,np.array(y)]).T"
   ]
  },
  {
   "cell_type": "code",
   "execution_count": 4,
   "metadata": {},
   "outputs": [],
   "source": [
    "color_map = [1 if j>1 else 0 for j in y]"
   ]
  },
  {
   "cell_type": "code",
   "execution_count": 18,
   "metadata": {
    "scrolled": true
   },
   "outputs": [
    {
     "data": {
      "image/png": "[encoded data removed]",
      "text/plain": [
       "<Figure size 432x288 with 1 Axes>"
      ]
     },
     "metadata": {
      "needs_background": "light"
     },
     "output_type": "display_data"
    }
   ],
   "source": [
    "plt.scatter(x1,x2,c=color_map)\n",
    "x3 = np.linspace(0,100,100)\n",
    "x4 = np.linspace(0,100,100)\n",
    "plt.plot(x3,x4,'--')\n",
    "plt.xlabel(\"x1\")\n",
    "plt.ylabel(\"x2\")\n",
    "plt.plot(splt1,splt2)\n",
    "plt.title(\"Scatter plot\")\n",
    "plt.show()"
   ]
  },
  {
   "cell_type": "markdown",
   "metadata": {},
   "source": [
    "# 编写PLA核心代码"
   ]
  },
  {
   "cell_type": "code",
   "execution_count": 7,
   "metadata": {},
   "outputs": [],
   "source": [
    "def sign(x):\n",
    "    \"\"\"\n",
    "    符号函数，if x>0 return 1,else return -1\n",
    "    \"\"\"\n",
    "    if x>0:\n",
    "        return 1\n",
    "    else: \n",
    "        return -1"
   ]
  },
  {
   "cell_type": "code",
   "execution_count": 8,
   "metadata": {},
   "outputs": [
    {
     "data": {
      "text/plain": [
       "array([  88, -114])"
      ]
     },
     "execution_count": 8,
     "metadata": {},
     "output_type": "execute_result"
    }
   ],
   "source": [
    "###权重矩阵和一条数据X1都是列向量 即 [[1],[2]]\n",
    "weight_T = np.array([0,0])\n",
    "#初始化loss\n",
    "loss = -1\n",
    "while loss<0:\n",
    "    for x_t,y in zip(X,label):\n",
    "        loss=sign(np.dot(weight_T,x_t.T))*y\n",
    "        if loss<0:\n",
    "            weight_T=weight_T+y*x_t.T\n",
    "            break\n",
    "weight_T"
   ]
  },
  {
   "cell_type": "code",
   "execution_count": 16,
   "metadata": {},
   "outputs": [],
   "source": [
    "###测试\n",
    "s = 0\n",
    "for x_t,y in zip(X,label):\n",
    "    s+=sign(np.dot(weight_T,x_t.T))*y\n",
    "print(x)\n",
    "splt1 = []\n",
    "splt2 = []\n",
    "for i in np.arange(1,100,0.1):\n",
    "    for j in np.arange(1,100,0.1):\n",
    "        if np.dot(weight_T,np.array([i,j]).T)==0:\n",
    "            splt1.append(i)\n",
    "            splt2.append(j)"
   ]
  },
  {
   "cell_type": "code",
   "execution_count": null,
   "metadata": {},
   "outputs": [],
   "source": []
  }
 ],
 "metadata": {
  "kernelspec": {
   "display_name": "Python 3",
   "language": "python",
   "name": "python3"
  },
  "language_info": {
   "codemirror_mode": {
    "name": "ipython",
    "version": 3
   },
   "file_extension": ".py",
   "mimetype": "text/x-python",
   "name": "python",
   "nbconvert_exporter": "python",
   "pygments_lexer": "ipython3",
   "version": "3.8.3"
  },
  "toc": {
   "base_numbering": 1,
   "nav_menu": {},
   "number_sections": true,
   "sideBar": true,
   "skip_h1_title": false,
   "title_cell": "Table of Contents",
   "title_sidebar": "Contents",
   "toc_cell": false,
   "toc_position": {},
   "toc_section_display": true,
   "toc_window_display": false
  }
 },
 "nbformat": 4,
 "nbformat_minor": 4
}
